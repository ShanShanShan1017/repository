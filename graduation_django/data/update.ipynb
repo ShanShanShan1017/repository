{
 "cells": [
  {
   "cell_type": "code",
   "execution_count": 1,
   "id": "6e58303e",
   "metadata": {},
   "outputs": [],
   "source": [
    "import pandas as pd"
   ]
  },
  {
   "cell_type": "code",
   "execution_count": 17,
   "id": "e019e82d",
   "metadata": {},
   "outputs": [],
   "source": [
    "# 读取 CSV 文件\n",
    "file_path = r'D:\\pyCharm\\graduation_django\\data\\bj.csv'\n",
    "df = pd.read_csv(file_path, encoding='gbk')"
   ]
  },
  {
   "cell_type": "code",
   "execution_count": 19,
   "id": "389a6ee7",
   "metadata": {},
   "outputs": [],
   "source": [
    "# 假设单价字段名为 '单价/平'\n",
    "column_name = '单价/平'\n",
    "if column_name in df.columns:\n",
    "    # 删除 '元' 字\n",
    "    df[column_name] = df[column_name].astype(str).str.replace('元/平米', '')\n",
    "    df[column_name] = df[column_name].astype(str).str.replace('单价', '')\n"
   ]
  },
  {
   "cell_type": "code",
   "execution_count": 21,
   "id": "68535813",
   "metadata": {},
   "outputs": [],
   "source": [
    "column_name = '面积'\n",
    "if column_name in df.columns:\n",
    "    # 删除 '元' 字\n",
    "    df[column_name] = df[column_name].astype(str).str.replace('平米', '')"
   ]
  },
  {
   "cell_type": "code",
   "execution_count": 22,
   "id": "b56c882d",
   "metadata": {},
   "outputs": [],
   "source": [
    "column_name = '关注人数'\n",
    "if column_name in df.columns:\n",
    "    # 删除 '元' 字\n",
    "    df[column_name] = df[column_name].astype(str).str.replace('人关注', '')\n"
   ]
  },
  {
   "cell_type": "code",
   "execution_count": 23,
   "id": "8ca6b3ee",
   "metadata": {},
   "outputs": [],
   "source": [
    "column_name = '观看次数'\n",
    "if column_name in df.columns:\n",
    "    # 删除 '元' 字\n",
    "    df[column_name] = df[column_name].astype(str).str.replace('共', '')\n",
    "    df[column_name] = df[column_name].astype(str).str.replace('次带看', '')"
   ]
  },
  {
   "cell_type": "code",
   "execution_count": 24,
   "id": "36643455",
   "metadata": {},
   "outputs": [],
   "source": [
    "if '经纬度' in df.columns:\n",
    "    # 使用str.split方法拆分字段，expand=True表示将拆分后的结果扩展为新的列\n",
    "    new_df = df['经纬度'].str.split(',', expand=True)\n",
    "    # 重命名新生成的列\n",
    "    new_df = new_df.rename(columns={0: '经度', 1: '纬度'})\n",
    "    # 将新生成的列合并到原DataFrame中\n",
    "    df = pd.concat([df, new_df], axis=1)\n",
    "    # 如果不需要原经纬度字段，可以删除它\n",
    "    df = df.drop('经纬度', axis=1)"
   ]
  },
  {
   "cell_type": "code",
   "execution_count": 30,
   "id": "21c78a85",
   "metadata": {},
   "outputs": [],
   "source": [
    "df = df.drop('id', axis=1)\n",
    "df['id'] = range(1, len(df) + 1)\n",
    "columns = ['id'] + [col for col in df.columns if col != 'id']\n",
    "df = df[columns]"
   ]
  },
  {
   "cell_type": "code",
   "execution_count": 31,
   "id": "eded0961",
   "metadata": {},
   "outputs": [
    {
     "data": {
      "text/html": [
       "<div>\n",
       "<style scoped>\n",
       "    .dataframe tbody tr th:only-of-type {\n",
       "        vertical-align: middle;\n",
       "    }\n",
       "\n",
       "    .dataframe tbody tr th {\n",
       "        vertical-align: top;\n",
       "    }\n",
       "\n",
       "    .dataframe thead th {\n",
       "        text-align: right;\n",
       "    }\n",
       "</style>\n",
       "<table border=\"1\" class=\"dataframe\">\n",
       "  <thead>\n",
       "    <tr style=\"text-align: right;\">\n",
       "      <th></th>\n",
       "      <th>id</th>\n",
       "      <th>简介</th>\n",
       "      <th>小区</th>\n",
       "      <th>户型</th>\n",
       "      <th>面积</th>\n",
       "      <th>关注人数</th>\n",
       "      <th>观看次数</th>\n",
       "      <th>发布时间</th>\n",
       "      <th>房价</th>\n",
       "      <th>单价/平</th>\n",
       "      <th>城区</th>\n",
       "      <th>经度</th>\n",
       "      <th>纬度</th>\n",
       "    </tr>\n",
       "  </thead>\n",
       "  <tbody>\n",
       "    <tr>\n",
       "      <th>0</th>\n",
       "      <td>1</td>\n",
       "      <td>户型方方正正 满五年就一套 视野开阔直观汇文中学</td>\n",
       "      <td>保利蔷薇</td>\n",
       "      <td>2室2厅</td>\n",
       "      <td>88.63</td>\n",
       "      <td>58</td>\n",
       "      <td>27</td>\n",
       "      <td>19天以前发布</td>\n",
       "      <td>960.0</td>\n",
       "      <td>108316</td>\n",
       "      <td>东城</td>\n",
       "      <td>116.442531</td>\n",
       "      <td>39.89667</td>\n",
       "    </tr>\n",
       "    <tr>\n",
       "      <th>1</th>\n",
       "      <td>2</td>\n",
       "      <td>禾风相府 南北通透 三居室 前后花园 人车分流</td>\n",
       "      <td>禾风相府</td>\n",
       "      <td>3室2厅</td>\n",
       "      <td>163.83</td>\n",
       "      <td>247</td>\n",
       "      <td>115</td>\n",
       "      <td>6个月以前发布</td>\n",
       "      <td>1801.0</td>\n",
       "      <td>109932</td>\n",
       "      <td>东城</td>\n",
       "      <td>116.428303</td>\n",
       "      <td>39.929284</td>\n",
       "    </tr>\n",
       "    <tr>\n",
       "      <th>2</th>\n",
       "      <td>3</td>\n",
       "      <td>金鱼池南北通透大复式 正对花园、视野好 诚心出售</td>\n",
       "      <td>金鱼池中区</td>\n",
       "      <td>4室2厅</td>\n",
       "      <td>135.91</td>\n",
       "      <td>166</td>\n",
       "      <td>54</td>\n",
       "      <td>1个月以前发布</td>\n",
       "      <td>950.0</td>\n",
       "      <td>69900</td>\n",
       "      <td>东城</td>\n",
       "      <td>116.415431</td>\n",
       "      <td>39.896044</td>\n",
       "    </tr>\n",
       "    <tr>\n",
       "      <th>3</th>\n",
       "      <td>4</td>\n",
       "      <td>天娇园商品房 朝东2居 对小区花园 拎包入住</td>\n",
       "      <td>天娇园</td>\n",
       "      <td>2室2厅</td>\n",
       "      <td>91.48</td>\n",
       "      <td>61</td>\n",
       "      <td>41</td>\n",
       "      <td>27天以前发布</td>\n",
       "      <td>850.0</td>\n",
       "      <td>92917</td>\n",
       "      <td>东城</td>\n",
       "      <td>116.445751</td>\n",
       "      <td>39.903761</td>\n",
       "    </tr>\n",
       "    <tr>\n",
       "      <th>4</th>\n",
       "      <td>5</td>\n",
       "      <td>南北通透三居室 和平里一小 中间楼层 满五年</td>\n",
       "      <td>和平里三区</td>\n",
       "      <td>2室1厅</td>\n",
       "      <td>71.92</td>\n",
       "      <td>39</td>\n",
       "      <td>51</td>\n",
       "      <td>23天以前发布</td>\n",
       "      <td>800.0</td>\n",
       "      <td>111235</td>\n",
       "      <td>东城</td>\n",
       "      <td>116.427002</td>\n",
       "      <td>39.962219</td>\n",
       "    </tr>\n",
       "  </tbody>\n",
       "</table>\n",
       "</div>"
      ],
      "text/plain": [
       "   id                        简介      小区      户型        面积  关注人数   观看次数  \\\n",
       "0   1  户型方方正正 满五年就一套 视野开阔直观汇文中学   保利蔷薇    2室2厅     88.63    58     27    \n",
       "1   2   禾风相府 南北通透 三居室 前后花园 人车分流   禾风相府    3室2厅    163.83   247    115    \n",
       "2   3  金鱼池南北通透大复式 正对花园、视野好 诚心出售  金鱼池中区    4室2厅    135.91   166     54    \n",
       "3   4    天娇园商品房 朝东2居 对小区花园 拎包入住    天娇园    2室2厅     91.48    61     41    \n",
       "4   5    南北通透三居室 和平里一小 中间楼层 满五年  和平里三区    2室1厅     71.92    39     51    \n",
       "\n",
       "       发布时间      房价    单价/平  城区          经度         纬度  \n",
       "0   19天以前发布   960.0  108316  东城  116.442531   39.89667  \n",
       "1   6个月以前发布  1801.0  109932  东城  116.428303  39.929284  \n",
       "2   1个月以前发布   950.0   69900  东城  116.415431  39.896044  \n",
       "3   27天以前发布   850.0   92917  东城  116.445751  39.903761  \n",
       "4   23天以前发布   800.0  111235  东城  116.427002  39.962219  "
      ]
     },
     "execution_count": 31,
     "metadata": {},
     "output_type": "execute_result"
    }
   ],
   "source": [
    "df.head()"
   ]
  },
  {
   "cell_type": "code",
   "execution_count": 32,
   "id": "2bc36a0b",
   "metadata": {},
   "outputs": [],
   "source": [
    "df.to_csv(r'D:\\pyCharm\\graduation_django\\data\\new_bj.csv', index=False)"
   ]
  },
  {
   "cell_type": "code",
   "execution_count": null,
   "id": "d1d44cc9",
   "metadata": {},
   "outputs": [],
   "source": []
  },
  {
   "cell_type": "code",
   "execution_count": null,
   "id": "43797f9a",
   "metadata": {},
   "outputs": [],
   "source": []
  }
 ],
 "metadata": {
  "kernelspec": {
   "display_name": "base",
   "language": "python",
   "name": "python3"
  },
  "language_info": {
   "codemirror_mode": {
    "name": "ipython",
    "version": 3
   },
   "file_extension": ".py",
   "mimetype": "text/x-python",
   "name": "python",
   "nbconvert_exporter": "python",
   "pygments_lexer": "ipython3",
   "version": "3.12.4"
  }
 },
 "nbformat": 4,
 "nbformat_minor": 5
}
